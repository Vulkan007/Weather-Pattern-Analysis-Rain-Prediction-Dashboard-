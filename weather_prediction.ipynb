{
 "cells": [
  {
   "cell_type": "code",
   "execution_count": 1,
   "id": "7f6b18cc-7ec6-4929-bb75-9aa2017694ee",
   "metadata": {},
   "outputs": [
    {
     "ename": "ModuleNotFoundError",
     "evalue": "No module named 'kagglehub'",
     "output_type": "error",
     "traceback": [
      "\u001b[0;31m---------------------------------------------------------------------------\u001b[0m",
      "\u001b[0;31mModuleNotFoundError\u001b[0m                       Traceback (most recent call last)",
      "Cell \u001b[0;32mIn[1], line 1\u001b[0m\n\u001b[0;32m----> 1\u001b[0m \u001b[38;5;28;01mimport\u001b[39;00m \u001b[38;5;21;01mkagglehub\u001b[39;00m\n\u001b[1;32m      3\u001b[0m \u001b[38;5;66;03m# Download latest version\u001b[39;00m\n\u001b[1;32m      4\u001b[0m path \u001b[38;5;241m=\u001b[39m kagglehub\u001b[38;5;241m.\u001b[39mdataset_download(\u001b[38;5;124m\"\u001b[39m\u001b[38;5;124morvile/traffic-and-weather-datasets\u001b[39m\u001b[38;5;124m\"\u001b[39m)\n",
      "\u001b[0;31mModuleNotFoundError\u001b[0m: No module named 'kagglehub'"
     ]
    }
   ],
   "source": [
    "import kagglehub\n",
    "\n",
    "# Download latest version\n",
    "path = kagglehub.dataset_download(\"orvile/traffic-and-weather-datasets\")\n",
    "\n",
    "print(\"Path to dataset files:\", path)"
   ]
  },
  {
   "cell_type": "code",
   "execution_count": 2,
   "id": "14f35661-6e7f-49bf-8354-9b3b584c9afb",
   "metadata": {},
   "outputs": [
    {
     "name": "stdout",
     "output_type": "stream",
     "text": [
      "Collecting kagglehub\n",
      "  Downloading kagglehub-0.3.12-py3-none-any.whl.metadata (38 kB)\n",
      "Requirement already satisfied: packaging in ./.var/app/org.jupyter.JupyterLab/config/jupyterlab-desktop/jlab_server/lib/python3.12/site-packages (from kagglehub) (24.1)\n",
      "Requirement already satisfied: pyyaml in ./.var/app/org.jupyter.JupyterLab/config/jupyterlab-desktop/jlab_server/lib/python3.12/site-packages (from kagglehub) (6.0.2)\n",
      "Requirement already satisfied: requests in ./.var/app/org.jupyter.JupyterLab/config/jupyterlab-desktop/jlab_server/lib/python3.12/site-packages (from kagglehub) (2.32.3)\n",
      "Requirement already satisfied: tqdm in ./.var/app/org.jupyter.JupyterLab/config/jupyterlab-desktop/jlab_server/lib/python3.12/site-packages (from kagglehub) (4.66.5)\n",
      "Requirement already satisfied: charset-normalizer<4,>=2 in ./.var/app/org.jupyter.JupyterLab/config/jupyterlab-desktop/jlab_server/lib/python3.12/site-packages (from requests->kagglehub) (3.3.2)\n",
      "Requirement already satisfied: idna<4,>=2.5 in ./.var/app/org.jupyter.JupyterLab/config/jupyterlab-desktop/jlab_server/lib/python3.12/site-packages (from requests->kagglehub) (3.8)\n",
      "Requirement already satisfied: urllib3<3,>=1.21.1 in ./.var/app/org.jupyter.JupyterLab/config/jupyterlab-desktop/jlab_server/lib/python3.12/site-packages (from requests->kagglehub) (2.2.2)\n",
      "Requirement already satisfied: certifi>=2017.4.17 in ./.var/app/org.jupyter.JupyterLab/config/jupyterlab-desktop/jlab_server/lib/python3.12/site-packages (from requests->kagglehub) (2024.7.4)\n",
      "Downloading kagglehub-0.3.12-py3-none-any.whl (67 kB)\n",
      "Installing collected packages: kagglehub\n",
      "Successfully installed kagglehub-0.3.12\n",
      "Note: you may need to restart the kernel to use updated packages.\n"
     ]
    }
   ],
   "source": [
    "pip install kagglehub\n"
   ]
  },
  {
   "cell_type": "code",
   "execution_count": 3,
   "id": "5974b773-ddc5-4383-a8f8-7cf5f5f46590",
   "metadata": {},
   "outputs": [
    {
     "name": "stdout",
     "output_type": "stream",
     "text": [
      "Path to dataset files: /home/hero/.cache/kagglehub/datasets/orvile/traffic-and-weather-datasets/versions/1\n"
     ]
    }
   ],
   "source": [
    "import kagglehub\n",
    "\n",
    "# Download latest version\n",
    "path = kagglehub.dataset_download(\"orvile/traffic-and-weather-datasets\")\n",
    "\n",
    "print(\"Path to dataset files:\", path)"
   ]
  },
  {
   "cell_type": "code",
   "execution_count": null,
   "id": "41f3b719-adcb-4dfc-80a0-d4fcfec1cf13",
   "metadata": {},
   "outputs": [],
   "source": [
    "import pandas as pd\n",
    "import matplotlib.pyplot as plt\n",
    "import seaborn as sns\n",
    "\n",
    "# Load data\n",
    "df = pd.read_csv(\"your_file.csv\", parse_dates=['Date'])\n",
    "df.sort_values('Date', inplace=True)\n",
    "\n",
    "# Add useful columns\n",
    "df['Daily Return %'] = df['Adj Close'].pct_change() * 100\n",
    "df['Year'] = df['Date'].dt.year\n",
    "df['Month'] = df['Date'].dt.month\n",
    "df['Month Name'] = df['Date'].dt.month_name()\n",
    "df['Weekday'] = df['Date'].dt.day_name()\n",
    "\n",
    "# 1️⃣ Annual summary\n",
    "annual_summary = df.groupby('Year').agg(\n",
    "    Open=('Open', 'first'),\n",
    "    Close=('Close', 'last'),\n",
    "    High=('High', 'max'),\n",
    "    Low=('Low', 'min'),\n",
    "    Adj_Close=('Adj Close', 'last'),\n",
    "    Total_Volume=('Volume', 'sum'),\n",
    "    Avg_Daily_Return=('Daily Return %', 'mean'),\n",
    "    Volatility=('Daily Return %', 'std')\n",
    ").reset_index()\n",
    "\n",
    "# 2️⃣ Monthly summary\n",
    "monthly_summary = df.groupby(['Year', 'Month']).agg(\n",
    "    Open=('Open', 'first'),\n",
    "    Close=('Close', 'last'),\n",
    "    High=('High', 'max'),\n",
    "    Low=('Low', 'min'),\n",
    "    Avg_Adj_Close=('Adj Close', 'mean'),\n",
    "    Total_Volume=('Volume', 'sum'),\n",
    "    Avg_Daily_Return=('Daily Return %', 'mean'),\n",
    "    Volatility=('Daily Return %', 'std')\n",
    ").reset_index()\n",
    "\n",
    "# 3️⃣ Weekday pattern (across all years)\n",
    "weekday_summary = df.groupby('Weekday').agg(\n",
    "    Avg_Adj_Close=('Adj Close', 'mean'),\n",
    "    Avg_Volume=('Volume', 'mean'),\n",
    "    Avg_Daily_Return=('Daily Return %', 'mean'),\n",
    "    Volatility=('Daily Return %', 'std')\n",
    ").reindex(['Monday','Tuesday','Wednesday','Thursday','Friday']).reset_index()\n",
    "\n",
    "# 4️⃣ Rolling 30-day volatility\n",
    "df['Rolling_Volatility_30D'] = df['Daily Return %'].rolling(30).std()\n",
    "\n",
    "# 5️⃣ Export detailed daily data (if needed in Power BI for custom visuals)\n",
    "df.to_csv(\"detailed_daily_data.csv\", index=False)\n",
    "\n",
    "# 6️⃣ Export aggregated data\n",
    "annual_summary.to_csv(\"annual_summary.csv\", index=False)\n",
    "monthly_summary.to_csv(\"monthly_summary.csv\", index=False)\n",
    "weekday_summary.to_csv(\"weekday_summary.csv\", index=False)\n",
    "\n",
    "# ---- Visuals for Power BI (optional) ----\n",
    "\n",
    "# Price trend\n",
    "plt.figure(figsize=(12, 6))\n",
    "plt.plot(df['Date'], df['Adj Close'])\n",
    "plt.title('Adjusted Close Price Over Time')\n",
    "plt.xlabel('Date')\n",
    "plt.ylabel('Adjusted Close Price')\n",
    "plt.grid(True)\n",
    "plt.savefig('adj_close_trend.png')\n",
    "plt.close()\n",
    "\n",
    "# Volume trend\n",
    "plt.figure(figsize=(12, 6))\n",
    "plt.bar(df['Date'], df['Volume'], width=1)\n",
    "plt.title('Daily Trading Volume Over Time')\n",
    "plt.xlabel('Date')\n",
    "plt.ylabel('Volume')\n",
    "plt.savefig('volume_trend.png')\n",
    "plt.close()\n",
    "\n",
    "# Volatility trend\n",
    "plt.figure(figsize=(12, 6))\n",
    "plt.plot(df['Date'], df['Rolling_Volatility_30D'])\n",
    "plt.title('30-Day Rolling Volatility (%)')\n",
    "plt.xlabel('Date')\n",
    "plt.ylabel('Volatility')\n",
    "plt.grid(True)\n",
    "plt.savefig('volatility_trend.png')\n",
    "plt.close()\n",
    "\n",
    "# Monthly heatmap\n",
    "pivot = monthly_summary.pivot_table(index='Month', columns='Year', values='Avg_Adj_Close')\n",
    "pivot = pivot.reindex(list(range(1,13)))\n",
    "plt.figure(figsize=(14, 8))\n",
    "sns.heatmap(pivot, annot=True, fmt=\".1f\", cmap='coolwarm')\n",
    "plt.title('Monthly Avg Adjusted Close Heatmap')\n",
    "plt.savefig('monthly_heatmap.png')\n",
    "plt.close()\n",
    "\n",
    "print(\"✅ All outputs generated: CSVs and plots ready for Power BI.\")\n"
   ]
  },
  {
   "cell_type": "code",
   "execution_count": null,
   "id": "b7825757-e588-4d99-8ad3-5ea9f0986a1d",
   "metadata": {},
   "outputs": [],
   "source": []
  },
  {
   "cell_type": "code",
   "execution_count": null,
   "id": "254d14d1-d542-4cad-a5b8-b6cbc2087116",
   "metadata": {},
   "outputs": [],
   "source": []
  },
  {
   "cell_type": "code",
   "execution_count": null,
   "id": "39f8b5fc-6f47-4fa1-9540-73017d5f2f45",
   "metadata": {},
   "outputs": [],
   "source": []
  }
 ],
 "metadata": {
  "kernelspec": {
   "display_name": "Python 3 (ipykernel)",
   "language": "python",
   "name": "python3"
  },
  "language_info": {
   "codemirror_mode": {
    "name": "ipython",
    "version": 3
   },
   "file_extension": ".py",
   "mimetype": "text/x-python",
   "name": "python",
   "nbconvert_exporter": "python",
   "pygments_lexer": "ipython3",
   "version": "3.12.5"
  }
 },
 "nbformat": 4,
 "nbformat_minor": 5
}
